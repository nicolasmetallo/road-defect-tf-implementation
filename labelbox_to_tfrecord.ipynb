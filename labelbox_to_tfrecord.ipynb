{
  "nbformat": 4,
  "nbformat_minor": 0,
  "metadata": {
    "colab": {
      "name": "labelbox_to_tfrecord",
      "version": "0.3.2",
      "provenance": [],
      "collapsed_sections": [],
      "include_colab_link": true
    },
    "kernelspec": {
      "name": "python3",
      "display_name": "Python 3"
    }
  },
  "cells": [
    {
      "cell_type": "markdown",
      "metadata": {
        "id": "view-in-github",
        "colab_type": "text"
      },
      "source": [
        "[View in Colaboratory](https://colab.research.google.com/github/nicolasmetallo/road-defect-tf-implementation/blob/master/labelbox_to_tfrecord.ipynb)"
      ]
    },
    {
      "metadata": {
        "id": "qJltJsfiyFM-",
        "colab_type": "code",
        "colab": {
          "base_uri": "https://localhost:8080/",
          "height": 224
        },
        "outputId": "d94bc360-1ff7-4264-eed2-5d4908705995"
      },
      "cell_type": "code",
      "source": [
        "#=============== Git Clone & Install libraries ===============#\n",
        "\n",
        "!git clone https://github.com/nicolasmetallo/road-defect-tf-implementation.git\n",
        "!pip install tqdm"
      ],
      "execution_count": 1,
      "outputs": [
        {
          "output_type": "stream",
          "text": [
            "Cloning into 'road-defect-tf-implementation'...\n",
            "remote: Counting objects: 815, done.\u001b[K\n",
            "remote: Compressing objects: 100% (797/797), done.\u001b[K\n",
            "remote: Total 815 (delta 29), reused 800 (delta 17), pack-reused 0\u001b[K\n",
            "Receiving objects: 100% (815/815), 73.82 MiB | 46.41 MiB/s, done.\n",
            "Resolving deltas: 100% (29/29), done.\n",
            "Collecting tqdm\n",
            "\u001b[?25l  Downloading https://files.pythonhosted.org/packages/7d/e6/19dfaff08fcbee7f3453e5b537e65a8364f1945f921a36d08be1e2ff3475/tqdm-4.24.0-py2.py3-none-any.whl (43kB)\n",
            "\u001b[K    100% |████████████████████████████████| 51kB 2.1MB/s \n",
            "\u001b[?25hInstalling collected packages: tqdm\n",
            "Successfully installed tqdm-4.24.0\n"
          ],
          "name": "stdout"
        }
      ]
    },
    {
      "metadata": {
        "id": "vHzmhqIes9a4",
        "colab_type": "code",
        "colab": {}
      },
      "cell_type": "code",
      "source": [
        "#=============== Import Libraries ===============#\n",
        "\n",
        "import pandas as pd\n",
        "import json\n",
        "import numpy as np\n",
        "import requests\n",
        "import os\n",
        "from tqdm import trange\n",
        "import glob\n",
        "\n",
        "#=============== Set WORKING DIR ===============#\n",
        "\n",
        "try:\n",
        "  os.chdir(\"road-defect-tf-implementation/\")\n",
        "except:\n",
        "  pass\n",
        "\n",
        "#=============== Import Labelbox CSV ===============#\n",
        "\n",
        "data = pd.read_csv(\"labelbox_images/labelbox_output.csv\") # csv output from Labelbox"
      ],
      "execution_count": 0,
      "outputs": []
    },
    {
      "metadata": {
        "id": "DxZK2K5rtlrr",
        "colab_type": "code",
        "colab": {
          "base_uri": "https://localhost:8080/",
          "height": 187
        },
        "outputId": "0c09267b-2341-4f65-d41c-39d33806abe0"
      },
      "cell_type": "code",
      "source": [
        "#=============== Download Images ===============#\n",
        "\n",
        "try:\n",
        "  print(\"Downloading images from Labelbox..\\n\")\n",
        "  imageList = glob.glob(os.path.join('labelbox_images',\"*.jpg\"))\n",
        "  if len(imageList) < len(data):\n",
        "    for index in trange(len(data)):\n",
        "      url = data[\"Labeled Data\"][index]\n",
        "      name = data[\"External ID\"][index]\n",
        "      r = requests.get(url, allow_redirects=True)\n",
        "      open(os.path.join(\"labelbox_images\",name), 'wb').write(r.content)\n",
        "  else:\n",
        "    print(\"{} images already downloaded\".format(len(data)))\n",
        "except:\n",
        "  pass\n",
        "\n",
        "#=============== Split 'images' into train, val, test ===============#\n",
        "\n",
        "!python3 build_dataset.py --data_dir='labelbox_images/' --output_dir='labelbox_images/'"
      ],
      "execution_count": 3,
      "outputs": [
        {
          "output_type": "stream",
          "text": [
            "\r  0%|          | 0/197 [00:00<?, ?it/s]"
          ],
          "name": "stderr"
        },
        {
          "output_type": "stream",
          "text": [
            "Downloading images from Labelbox..\n"
          ],
          "name": "stdout"
        },
        {
          "output_type": "stream",
          "text": [
            "100%|██████████| 197/197 [00:37<00:00,  5.22it/s]\n"
          ],
          "name": "stderr"
        },
        {
          "output_type": "stream",
          "text": [
            "Warning: output dir labelbox_images/ already exists\r\n",
            "Processing train data, saving preprocessed data to labelbox_images/train\n",
            "100%|████████████████████████████████████████| 157/157 [00:01<00:00, 108.34it/s]\n",
            "Processing val data, saving preprocessed data to labelbox_images/val\n",
            "100%|██████████████████████████████████████████| 20/20 [00:00<00:00, 110.52it/s]\n",
            "Processing test data, saving preprocessed data to labelbox_images/test\n",
            "100%|██████████████████████████████████████████| 20/20 [00:00<00:00, 109.10it/s]\n",
            "Done building dataset\n"
          ],
          "name": "stdout"
        }
      ]
    },
    {
      "metadata": {
        "id": "oNUOLD5DyWIQ",
        "colab_type": "code",
        "colab": {}
      },
      "cell_type": "code",
      "source": [
        "#=============== Read JSON ===============#\n",
        "\n",
        "def get_xy(d,xy='x'):\n",
        "    if xy in d:\n",
        "        yield d[xy]\n",
        "    for k in d:\n",
        "        if isinstance(d[k], list):\n",
        "            for i in d[k]:\n",
        "                for j in fun(i):\n",
        "                    yield j\n",
        "\n",
        "split = [\"train\",\"val\"]\n",
        "\n",
        "#=============== Write DataFrame & Save to CSV ===============#\n",
        "\n",
        "# DEFAULT_COLUMNS = ['image_id', 'xmin', 'ymin', 'xmax', 'ymax', 'label']\n",
        "\n",
        "for each in split:\n",
        "  images = []\n",
        "  images_dir = os.path.join(os.getcwd(), \"labelbox_images\", each)\n",
        "  imageList = glob.glob(os.path.join(images_dir, \"*.jpg\"))\n",
        "  \n",
        "  for image in range(len(imageList)):\n",
        "    images.append(imageList[image].split('/')[5])\n",
        "    \n",
        "  row_data = {}\n",
        "  append_list = []\n",
        "    \n",
        "  for index in range(len(data)):\n",
        "    rowDict = json.loads(data.Label[index])\n",
        "    imageName = data[\"External ID\"][index]\n",
        "    #imageDict = json.loads(data.subject_data[index])\n",
        "    #imageName = str(list(imageDict.values())[0]['Filename'])\n",
        "    \n",
        "    if imageName in images:\n",
        "      for k,v in rowDict.items():\n",
        "        bbox_label = k\n",
        "        for i in range(len(v)):\n",
        "          bbox_xmin = min(list(get_xy(v[i], xy='x')))\n",
        "          bbox_xmax = max(list(get_xy(v[i], xy='x')))\n",
        "          bbox_ymin = min(list(get_xy(v[i], xy='y')))\n",
        "          bbox_ymax = max(list(get_xy(v[i], xy='y')))\n",
        "          row_data = {\"image_id\": str(imageName.replace(\".jpg\",\"\")), \"label\": bbox_label, \"xmin\": bbox_xmin, \"xmax\": bbox_xmax, \"ymin\": bbox_ymin, \"ymax\": bbox_ymax}\n",
        "          append_list.append(row_data)\n",
        "        \n",
        "  bbox_data = pd.DataFrame(append_list)\n",
        "  bbox_data = bbox_data[['image_id', 'xmin', 'ymin', 'xmax', 'ymax', 'label']]\n",
        "  bbox_data.to_csv(os.path.join(images_dir,\"labels.csv\"), index = False)"
      ],
      "execution_count": 0,
      "outputs": []
    }
  ]
}